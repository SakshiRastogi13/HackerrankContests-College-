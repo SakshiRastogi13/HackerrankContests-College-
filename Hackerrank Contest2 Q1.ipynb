{
 "cells": [
  {
   "cell_type": "markdown",
   "metadata": {},
   "source": [
    "# Q1:- Snoop Dogg the psychologist"
   ]
  },
  {
   "cell_type": "markdown",
   "metadata": {},
   "source": [
    "# Snoop Dogg is a psychologist from Haryana. Every year he gets X number of patients to his hospital. One day Dr. Snoop wonders that he is having patients in different age groups. Instead of calculating variance in the age group, Snoop wants to try out something else. He wants to count how many pairs of people are with age difference more than or equal to Y.\n",
    "For example, if patient ages are [1, 2, 3, 4] where Snoop wants to see age difference of Y= 2, then there are 3 pairs of people with more than or equal to 2. Those patients are (1, 3), (1, 4) and (2, 4). Similarly if patient ages are [7, 4, 12, 56, 123] where Snoop wants to see age difference of Y=50, then there are 5 pairs of people with more than or equal to age difference 50."
   ]
  },
  {
   "cell_type": "code",
   "execution_count": null,
   "metadata": {},
   "outputs": [],
   "source": [
    "# Python Code\n",
    "X=input() # Taking input in the form of string\n",
    "Y=int(input()) # Taking age difference as input\n",
    "list1=[] # Creating a list\n",
    "list1=X.split(\" \") #Splitting the string into list\n",
    "count=0 \n",
    "\n",
    "#Traversing the list and calculating age difference of each possibility\n",
    "for i in range(len(list1)):\n",
    "    for j in range(i+1,len(list1)):\n",
    "        c=int(list1[j])-int(list1[i])\n",
    "        if(c<0):         # If age difference is negative then make it positive\n",
    "            c=-(c)\n",
    "            #print(c)\n",
    "            if(c>=Y):\n",
    "                count=count+1\n",
    "        else:\n",
    "            if(c>=Y):\n",
    "                count=count+1\n",
    "print(count)"
   ]
  }
 ],
 "metadata": {
  "kernelspec": {
   "display_name": "Python 3",
   "language": "python",
   "name": "python3"
  },
  "language_info": {
   "codemirror_mode": {
    "name": "ipython",
    "version": 3
   },
   "file_extension": ".py",
   "mimetype": "text/x-python",
   "name": "python",
   "nbconvert_exporter": "python",
   "pygments_lexer": "ipython3",
   "version": "3.7.4"
  }
 },
 "nbformat": 4,
 "nbformat_minor": 2
}
